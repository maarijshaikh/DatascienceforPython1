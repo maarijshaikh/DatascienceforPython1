{
 "cells": [
  {
   "cell_type": "code",
   "execution_count": 10,
   "id": "f616ccac",
   "metadata": {},
   "outputs": [],
   "source": [
    "x=\"ashish\""
   ]
  },
  {
   "cell_type": "code",
   "execution_count": 11,
   "id": "bfdbc114",
   "metadata": {},
   "outputs": [],
   "source": [
    "y=\"a\""
   ]
  },
  {
   "cell_type": "code",
   "execution_count": 12,
   "id": "6de34e7e",
   "metadata": {},
   "outputs": [
    {
     "name": "stdout",
     "output_type": "stream",
     "text": [
      "True\n"
     ]
    }
   ],
   "source": [
    "print(y in x)"
   ]
  },
  {
   "cell_type": "code",
   "execution_count": 13,
   "id": "d271c292",
   "metadata": {},
   "outputs": [
    {
     "name": "stdout",
     "output_type": "stream",
     "text": [
      "False\n"
     ]
    }
   ],
   "source": [
    "print(y not in x)"
   ]
  },
  {
   "cell_type": "code",
   "execution_count": null,
   "id": "c97cfe5e",
   "metadata": {},
   "outputs": [],
   "source": []
  }
 ],
 "metadata": {
  "kernelspec": {
   "display_name": "Python 3 (ipykernel)",
   "language": "python",
   "name": "python3"
  },
  "language_info": {
   "codemirror_mode": {
    "name": "ipython",
    "version": 3
   },
   "file_extension": ".py",
   "mimetype": "text/x-python",
   "name": "python",
   "nbconvert_exporter": "python",
   "pygments_lexer": "ipython3",
   "version": "3.9.7"
  }
 },
 "nbformat": 4,
 "nbformat_minor": 5
}
